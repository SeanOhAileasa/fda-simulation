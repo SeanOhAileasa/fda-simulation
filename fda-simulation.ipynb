{
 "cells": [
  {
   "cell_type": "code",
   "execution_count": null,
   "metadata": {},
   "outputs": [
    {
     "data": {
      "text/html": [
       "<script>Jupyter.notebook.kernel.restart()</script>"
      ]
     },
     "metadata": {},
     "output_type": "display_data"
    }
   ],
   "source": [
    "from IPython.core.display import display_html\n",
    "display_html(\"<script>Jupyter.notebook.kernel.restart()</script>\",raw=True)"
   ]
  },
  {
   "cell_type": "code",
   "execution_count": 1,
   "metadata": {},
   "outputs": [
    {
     "data": {
      "text/html": [
       "<style>.container { width:100% !important; }</style>"
      ],
      "text/plain": [
       "<IPython.core.display.HTML object>"
      ]
     },
     "metadata": {},
     "output_type": "display_data"
    },
    {
     "data": {
      "text/html": [
       "<style>.container { width:100% !important; }</style>"
      ],
      "text/plain": [
       "<IPython.core.display.HTML object>"
      ]
     },
     "metadata": {},
     "output_type": "display_data"
    }
   ],
   "source": [
    "from sys import path; path.insert(1,\"../src\");\n",
    "import fubar; from importlib import reload; reload(fubar);"
   ]
  },
  {
   "cell_type": "markdown",
   "metadata": {},
   "source": [
    "***\n",
    "< [GMIT Data Analytics](https://web.archive.org/web/20201029063153/https://www.gmit.ie/computer-science-and-applied-physics/higher-diploma-science-computing-data-analytics-ict) | [Home](https://github.com/SeanOhAileasa) | [README](https://github.com/SeanOhAileasa/fda-simulation/blob/main/README.md) >\n",
    "\n",
    "[![GMIT](https://github.com/SeanOhAileasa/SeanOhAileasa/blob/master/rc/gmit.png?raw=true)](https://web.archive.org/web/20201029063153/https://www.gmit.ie/computer-science-and-applied-physics/higher-diploma-science-computing-data-analytics-ict)\n",
    "\n",
    "## Fundamentals of Data Analysis - Course Material 2020\n",
    "### Topic: [Simulation](https://nbviewer.jupyter.org/github/SeanOhAileasa/fda-simulation/blob/main/fda-simulation.ipynb)\n",
    "***"
   ]
  },
  {
   "cell_type": "markdown",
   "metadata": {},
   "source": [
    "Course material for the ``Fundamentals of Data Analysis`` module (5 Credits) of the ``Higher Diploma in Science in Computing (Data Analytics) (H.Dip)`` programme (75 Credits) at **Galway-Mayo Institute of Technology (GMIT)**."
   ]
  },
  {
   "cell_type": "markdown",
   "metadata": {},
   "source": [
    "- referenced external link - [Machine Learning & Statistics](https://nbviewer.jupyter.org/github/SeanOhAileasa/mls-machine-learning-statistics/blob/main/mls-machine-learning-statistics.ipynb)"
   ]
  },
  {
   "cell_type": "code",
   "execution_count": 2,
   "metadata": {},
   "outputs": [],
   "source": [
    "from sys import path; path.insert(1,\"../src\")\n",
    "from fubar import fFile"
   ]
  },
  {
   "cell_type": "code",
   "execution_count": 3,
   "metadata": {
    "scrolled": true
   },
   "outputs": [
    {
     "name": "stdout",
     "output_type": "stream",
     "text": [
      "# repository ./SeanOhAileasa\r\n",
      "def fFile(nParPath):\r\n",
      "    \"\"\"Start a file with its associated application.\r\n",
      "\r\n",
      "Input: nParPath\r\n",
      "Process: (os.path.realpath; os.startfile)\r\n",
      "Output: file opened with associated application\r\n",
      "\"\"\"\r\n",
      "    from os import path,startfile\r\n",
      "    return startfile(path.realpath(nParPath))\r\n",
      "# --- END ---\r\n"
     ]
    }
   ],
   "source": [
    "%%script bash\n",
    "grep -1 \"def fFile\" ../src/fubar.py -A 9"
   ]
  },
  {
   "cell_type": "code",
   "execution_count": null,
   "metadata": {},
   "outputs": [],
   "source": [
    "fFile(\"./hide/024-Plotting an equation - 18-10-2020.mp4\")"
   ]
  },
  {
   "cell_type": "markdown",
   "metadata": {},
   "source": [
    "<a id=\"top\"></a>\n",
    "***\n",
    "## Table of Contents\n",
    "***\n",
    "\n",
    "## [Abstract](#abstract)\n",
    "\n",
    "## [Introduction](#introduction)\n",
    "\n",
    "## [Solution](#solution)\n",
    "\n",
    "* [Wind](#fdaSimulationSolutionWind) $(u)$\n",
    "    * [Simulate](#fdaSimulationSolutionWindSimulate)\n",
    "        * [``numpy``](#fdaSimulationSolutionnumpy)\n",
    "            * [``linspace``](#fdaSimulationSolutionnumpylinspace)\n",
    "            \n",
    "            \n",
    "* [Power](#fdaSimulationSolutionPower) $(P)$\n",
    "    * [``numpy``](#fdaSimulationSolutionPowernumpy) &#x1F6A7; (&#8594; Wind $(u)$ &#8594; Simulate)\n",
    "        * [``exp``](#fdaSimulationSolutionPowernumpyexp)\n",
    "        \n",
    "\n",
    "* [Dataset](#fdaSimulationSolutionPu) $P(u)$\n",
    "    * [``pandas``](#fdaSimulationSolutionWindPandas)\n",
    "        * [``DataFrame``](#fdaSimulationSolutionWindPandasDataFrame)\n",
    "\n",
    "## [Conclusion](#conclusion)\n",
    "\n",
    "* [Plot](#fdaSimulationConclusionPlot)\n",
    "    * [``seaborn``](#fdaSimulationConclusionPlotseaborn)\n",
    "        * [``scatterplot``](#fdaSimulationConclusionPlotseabornscatterplot)"
   ]
  },
  {
   "cell_type": "markdown",
   "metadata": {},
   "source": [
    "***\n",
    "## END"
   ]
  },
  {
   "cell_type": "markdown",
   "metadata": {},
   "source": [
    "< [Table of Contents](#top) | [Introduction](#introduction) | [Solution](#solution) | [Conclusion](#conclusion) | [References](#references) >\n",
    "<a id=\"abstract\"></a>\n",
    "***\n",
    "## Abstract\n",
    "***"
   ]
  },
  {
   "cell_type": "markdown",
   "metadata": {},
   "source": [
    "- may come across a situation whereby a dataset is not available but its known theres a relationship between two different variables characterised in terms of an equation [1]"
   ]
  },
  {
   "cell_type": "markdown",
   "metadata": {},
   "source": [
    "- its best to have a visual representation of it in order to make more sense of the equation (if any way complex cannot be pictured) [1] "
   ]
  },
  {
   "cell_type": "markdown",
   "metadata": {},
   "source": [
    "- the following paper [link](https://www.sciencedirect.com/science/article/pii/S0378779616300992) / [link](https://www.sciencedirect.com/science/article/pii/S0378779616300992) is about figuring out the relationship between wind turbines in terms of power output and wind speed [1]"
   ]
  },
  {
   "cell_type": "markdown",
   "metadata": {},
   "source": [
    "- the turbine has two variables: i) wind speed and; ii) power output [1]"
   ]
  },
  {
   "cell_type": "markdown",
   "metadata": {},
   "source": [
    "***\n",
    "## END"
   ]
  },
  {
   "cell_type": "markdown",
   "metadata": {},
   "source": [
    "< [Table of Contents](#top) | [Abstract](#abstract) | [Solution](#solution) | [Conclusion](#conclusion) | [References](#references) >\n",
    "<a id=\"introduction\"></a>\n",
    "***\n",
    "## Introduction\n",
    "***"
   ]
  },
  {
   "cell_type": "markdown",
   "metadata": {},
   "source": [
    "- the paper characterises the two variables (wind speed and power output) by ``Eq. (1)`` [1]"
   ]
  },
  {
   "cell_type": "markdown",
   "metadata": {},
   "source": [
    "$$P(u) = a \\frac{1 + me^{-u/t}}{1+ ne^{-u/t}}\\tag{1}$$"
   ]
  },
  {
   "cell_type": "markdown",
   "metadata": {},
   "source": [
    "- ``Eq. (1)`` characterises power ($P$) with input wind speed ($u$ - same as $x$ just using $u$ instead of $x$ in the paper) calculating what $P$ is when $u$ is a given value [1]"
   ]
  },
  {
   "cell_type": "markdown",
   "metadata": {},
   "source": [
    "$$P(u)\\tag{2}$$"
   ]
  },
  {
   "cell_type": "markdown",
   "metadata": {},
   "source": [
    "- to calculate $P$ from $u$ ``(Eq. (2))`` requires $a$ as some parameter (fixed number) multiplied by the fraction ``Eq. (3)`` - the four constants $a$ and $m$ and $n$ and $t$ are set as $2011.1$ and $2.6650$ and $622.922$ and $1.4090$ respectively [1]"
   ]
  },
  {
   "cell_type": "markdown",
   "metadata": {},
   "source": [
    "$$\\frac{1 + me^{-u/t}}{1+ ne^{-u/t}}\\tag{3}$$"
   ]
  },
  {
   "cell_type": "code",
   "execution_count": 1,
   "metadata": {},
   "outputs": [],
   "source": [
    "a,m,n,t=2011.1,2.6650,622.922,1.4090 # paper four constants"
   ]
  },
  {
   "cell_type": "markdown",
   "metadata": {},
   "source": [
    "***\n",
    "## END"
   ]
  },
  {
   "cell_type": "markdown",
   "metadata": {},
   "source": [
    "< [Table of Contents](#top) | [Abstract](#abstract) | [Introduction](#introduction) | [Conclusion](#conclusion) | [References](#references) >\n",
    "<a id=\"solution\"></a>\n",
    "***\n",
    "## Solution\n",
    "***"
   ]
  },
  {
   "cell_type": "markdown",
   "metadata": {},
   "source": [
    "- reading the paper there is a load of equations which can be quite confusing (may be bamboozled by the terminology) therefore going to distilled this down and decipher whats going on using python [1]"
   ]
  },
  {
   "cell_type": "markdown",
   "metadata": {},
   "source": [
    "< [Table of Contents](#top) | [References](#references) >\n",
    "<a id=\"fdaSimulationSolutionWind\"></a>\n",
    "***\n",
    "### Wind $(u)$\n",
    "***"
   ]
  },
  {
   "cell_type": "markdown",
   "metadata": {},
   "source": [
    "- determine reasonable $u$ range [1]"
   ]
  },
  {
   "cell_type": "markdown",
   "metadata": {},
   "source": [
    "- reasoning lowest $u$ of $0$ (directionality could be represented as $-u$ in which $u$ is going the other direction) [1]"
   ]
  },
  {
   "cell_type": "markdown",
   "metadata": {},
   "source": [
    "- reasoning $30$ metres per second is quite a fast $u$ (probably shut down the wind turbine at that speed to stop it from breaking apart) [1]"
   ]
  },
  {
   "cell_type": "markdown",
   "metadata": {},
   "source": [
    "< [Table of Contents](#top) | [References](#references) >\n",
    "<a id=\"fdaSimulationSolutionWindSimulate\"></a>\n",
    "***\n",
    "###### Simulate\n",
    "***"
   ]
  },
  {
   "cell_type": "markdown",
   "metadata": {},
   "source": [
    "- collection of $1000$ values presenting $u$ [1]"
   ]
  },
  {
   "cell_type": "markdown",
   "metadata": {},
   "source": [
    "< [Table of Contents](#top) | [References](#references) >\n",
    "<a id=\"fdaSimulationSolutionnumpy\"></a>\n",
    "***\n",
    "###### ``numpy``\n",
    "***"
   ]
  },
  {
   "cell_type": "code",
   "execution_count": 2,
   "metadata": {},
   "outputs": [],
   "source": [
    "import numpy as np"
   ]
  },
  {
   "cell_type": "markdown",
   "metadata": {},
   "source": [
    "< [Table of Contents](#top) | [References](#references) >\n",
    "<a id=\"fdaSimulationSolutionnumpylinspace\"></a>\n",
    "***\n",
    "###### ``linspace``\n",
    "***"
   ]
  },
  {
   "cell_type": "markdown",
   "metadata": {},
   "source": [
    "- using ``numpy`` function ``linspace`` to create values evenly spaced out between the lower number $0$ (inclusive) and the upper number $30$ (inclusive) with $1000$ points in-between [1]"
   ]
  },
  {
   "cell_type": "markdown",
   "metadata": {},
   "source": [
    "- collection is in increments of $30\\div{1000}$ [1]"
   ]
  },
  {
   "cell_type": "code",
   "execution_count": 3,
   "metadata": {
    "scrolled": false
   },
   "outputs": [
    {
     "data": {
      "text/plain": [
       "array([ 0.        ,  0.03003003,  0.06006006,  0.09009009,  0.12012012,\n",
       "        0.15015015,  0.18018018,  0.21021021,  0.24024024,  0.27027027,\n",
       "        0.3003003 ,  0.33033033,  0.36036036,  0.39039039,  0.42042042,\n",
       "        0.45045045,  0.48048048,  0.51051051,  0.54054054,  0.57057057,\n",
       "        0.6006006 ,  0.63063063,  0.66066066,  0.69069069,  0.72072072,\n",
       "        0.75075075,  0.78078078,  0.81081081,  0.84084084,  0.87087087,\n",
       "        0.9009009 ,  0.93093093,  0.96096096,  0.99099099,  1.02102102,\n",
       "        1.05105105,  1.08108108,  1.11111111,  1.14114114,  1.17117117,\n",
       "        1.2012012 ,  1.23123123,  1.26126126,  1.29129129,  1.32132132,\n",
       "        1.35135135,  1.38138138,  1.41141141,  1.44144144,  1.47147147,\n",
       "        1.5015015 ,  1.53153153,  1.56156156,  1.59159159,  1.62162162,\n",
       "        1.65165165,  1.68168168,  1.71171171,  1.74174174,  1.77177177,\n",
       "        1.8018018 ,  1.83183183,  1.86186186,  1.89189189,  1.92192192,\n",
       "        1.95195195,  1.98198198,  2.01201201,  2.04204204,  2.07207207,\n",
       "        2.1021021 ,  2.13213213,  2.16216216,  2.19219219,  2.22222222,\n",
       "        2.25225225,  2.28228228,  2.31231231,  2.34234234,  2.37237237,\n",
       "        2.4024024 ,  2.43243243,  2.46246246,  2.49249249,  2.52252252,\n",
       "        2.55255255,  2.58258258,  2.61261261,  2.64264264,  2.67267267,\n",
       "        2.7027027 ,  2.73273273,  2.76276276,  2.79279279,  2.82282282,\n",
       "        2.85285285,  2.88288288,  2.91291291,  2.94294294,  2.97297297,\n",
       "        3.003003  ,  3.03303303,  3.06306306,  3.09309309,  3.12312312,\n",
       "        3.15315315,  3.18318318,  3.21321321,  3.24324324,  3.27327327,\n",
       "        3.3033033 ,  3.33333333,  3.36336336,  3.39339339,  3.42342342,\n",
       "        3.45345345,  3.48348348,  3.51351351,  3.54354354,  3.57357357,\n",
       "        3.6036036 ,  3.63363363,  3.66366366,  3.69369369,  3.72372372,\n",
       "        3.75375375,  3.78378378,  3.81381381,  3.84384384,  3.87387387,\n",
       "        3.9039039 ,  3.93393393,  3.96396396,  3.99399399,  4.02402402,\n",
       "        4.05405405,  4.08408408,  4.11411411,  4.14414414,  4.17417417,\n",
       "        4.2042042 ,  4.23423423,  4.26426426,  4.29429429,  4.32432432,\n",
       "        4.35435435,  4.38438438,  4.41441441,  4.44444444,  4.47447447,\n",
       "        4.5045045 ,  4.53453453,  4.56456456,  4.59459459,  4.62462462,\n",
       "        4.65465465,  4.68468468,  4.71471471,  4.74474474,  4.77477477,\n",
       "        4.8048048 ,  4.83483483,  4.86486486,  4.89489489,  4.92492492,\n",
       "        4.95495495,  4.98498498,  5.01501502,  5.04504505,  5.07507508,\n",
       "        5.10510511,  5.13513514,  5.16516517,  5.1951952 ,  5.22522523,\n",
       "        5.25525526,  5.28528529,  5.31531532,  5.34534535,  5.37537538,\n",
       "        5.40540541,  5.43543544,  5.46546547,  5.4954955 ,  5.52552553,\n",
       "        5.55555556,  5.58558559,  5.61561562,  5.64564565,  5.67567568,\n",
       "        5.70570571,  5.73573574,  5.76576577,  5.7957958 ,  5.82582583,\n",
       "        5.85585586,  5.88588589,  5.91591592,  5.94594595,  5.97597598,\n",
       "        6.00600601,  6.03603604,  6.06606607,  6.0960961 ,  6.12612613,\n",
       "        6.15615616,  6.18618619,  6.21621622,  6.24624625,  6.27627628,\n",
       "        6.30630631,  6.33633634,  6.36636637,  6.3963964 ,  6.42642643,\n",
       "        6.45645646,  6.48648649,  6.51651652,  6.54654655,  6.57657658,\n",
       "        6.60660661,  6.63663664,  6.66666667,  6.6966967 ,  6.72672673,\n",
       "        6.75675676,  6.78678679,  6.81681682,  6.84684685,  6.87687688,\n",
       "        6.90690691,  6.93693694,  6.96696697,  6.996997  ,  7.02702703,\n",
       "        7.05705706,  7.08708709,  7.11711712,  7.14714715,  7.17717718,\n",
       "        7.20720721,  7.23723724,  7.26726727,  7.2972973 ,  7.32732733,\n",
       "        7.35735736,  7.38738739,  7.41741742,  7.44744745,  7.47747748,\n",
       "        7.50750751,  7.53753754,  7.56756757,  7.5975976 ,  7.62762763,\n",
       "        7.65765766,  7.68768769,  7.71771772,  7.74774775,  7.77777778,\n",
       "        7.80780781,  7.83783784,  7.86786787,  7.8978979 ,  7.92792793,\n",
       "        7.95795796,  7.98798799,  8.01801802,  8.04804805,  8.07807808,\n",
       "        8.10810811,  8.13813814,  8.16816817,  8.1981982 ,  8.22822823,\n",
       "        8.25825826,  8.28828829,  8.31831832,  8.34834835,  8.37837838,\n",
       "        8.40840841,  8.43843844,  8.46846847,  8.4984985 ,  8.52852853,\n",
       "        8.55855856,  8.58858859,  8.61861862,  8.64864865,  8.67867868,\n",
       "        8.70870871,  8.73873874,  8.76876877,  8.7987988 ,  8.82882883,\n",
       "        8.85885886,  8.88888889,  8.91891892,  8.94894895,  8.97897898,\n",
       "        9.00900901,  9.03903904,  9.06906907,  9.0990991 ,  9.12912913,\n",
       "        9.15915916,  9.18918919,  9.21921922,  9.24924925,  9.27927928,\n",
       "        9.30930931,  9.33933934,  9.36936937,  9.3993994 ,  9.42942943,\n",
       "        9.45945946,  9.48948949,  9.51951952,  9.54954955,  9.57957958,\n",
       "        9.60960961,  9.63963964,  9.66966967,  9.6996997 ,  9.72972973,\n",
       "        9.75975976,  9.78978979,  9.81981982,  9.84984985,  9.87987988,\n",
       "        9.90990991,  9.93993994,  9.96996997, 10.        , 10.03003003,\n",
       "       10.06006006, 10.09009009, 10.12012012, 10.15015015, 10.18018018,\n",
       "       10.21021021, 10.24024024, 10.27027027, 10.3003003 , 10.33033033,\n",
       "       10.36036036, 10.39039039, 10.42042042, 10.45045045, 10.48048048,\n",
       "       10.51051051, 10.54054054, 10.57057057, 10.6006006 , 10.63063063,\n",
       "       10.66066066, 10.69069069, 10.72072072, 10.75075075, 10.78078078,\n",
       "       10.81081081, 10.84084084, 10.87087087, 10.9009009 , 10.93093093,\n",
       "       10.96096096, 10.99099099, 11.02102102, 11.05105105, 11.08108108,\n",
       "       11.11111111, 11.14114114, 11.17117117, 11.2012012 , 11.23123123,\n",
       "       11.26126126, 11.29129129, 11.32132132, 11.35135135, 11.38138138,\n",
       "       11.41141141, 11.44144144, 11.47147147, 11.5015015 , 11.53153153,\n",
       "       11.56156156, 11.59159159, 11.62162162, 11.65165165, 11.68168168,\n",
       "       11.71171171, 11.74174174, 11.77177177, 11.8018018 , 11.83183183,\n",
       "       11.86186186, 11.89189189, 11.92192192, 11.95195195, 11.98198198,\n",
       "       12.01201201, 12.04204204, 12.07207207, 12.1021021 , 12.13213213,\n",
       "       12.16216216, 12.19219219, 12.22222222, 12.25225225, 12.28228228,\n",
       "       12.31231231, 12.34234234, 12.37237237, 12.4024024 , 12.43243243,\n",
       "       12.46246246, 12.49249249, 12.52252252, 12.55255255, 12.58258258,\n",
       "       12.61261261, 12.64264264, 12.67267267, 12.7027027 , 12.73273273,\n",
       "       12.76276276, 12.79279279, 12.82282282, 12.85285285, 12.88288288,\n",
       "       12.91291291, 12.94294294, 12.97297297, 13.003003  , 13.03303303,\n",
       "       13.06306306, 13.09309309, 13.12312312, 13.15315315, 13.18318318,\n",
       "       13.21321321, 13.24324324, 13.27327327, 13.3033033 , 13.33333333,\n",
       "       13.36336336, 13.39339339, 13.42342342, 13.45345345, 13.48348348,\n",
       "       13.51351351, 13.54354354, 13.57357357, 13.6036036 , 13.63363363,\n",
       "       13.66366366, 13.69369369, 13.72372372, 13.75375375, 13.78378378,\n",
       "       13.81381381, 13.84384384, 13.87387387, 13.9039039 , 13.93393393,\n",
       "       13.96396396, 13.99399399, 14.02402402, 14.05405405, 14.08408408,\n",
       "       14.11411411, 14.14414414, 14.17417417, 14.2042042 , 14.23423423,\n",
       "       14.26426426, 14.29429429, 14.32432432, 14.35435435, 14.38438438,\n",
       "       14.41441441, 14.44444444, 14.47447447, 14.5045045 , 14.53453453,\n",
       "       14.56456456, 14.59459459, 14.62462462, 14.65465465, 14.68468468,\n",
       "       14.71471471, 14.74474474, 14.77477477, 14.8048048 , 14.83483483,\n",
       "       14.86486486, 14.89489489, 14.92492492, 14.95495495, 14.98498498,\n",
       "       15.01501502, 15.04504505, 15.07507508, 15.10510511, 15.13513514,\n",
       "       15.16516517, 15.1951952 , 15.22522523, 15.25525526, 15.28528529,\n",
       "       15.31531532, 15.34534535, 15.37537538, 15.40540541, 15.43543544,\n",
       "       15.46546547, 15.4954955 , 15.52552553, 15.55555556, 15.58558559,\n",
       "       15.61561562, 15.64564565, 15.67567568, 15.70570571, 15.73573574,\n",
       "       15.76576577, 15.7957958 , 15.82582583, 15.85585586, 15.88588589,\n",
       "       15.91591592, 15.94594595, 15.97597598, 16.00600601, 16.03603604,\n",
       "       16.06606607, 16.0960961 , 16.12612613, 16.15615616, 16.18618619,\n",
       "       16.21621622, 16.24624625, 16.27627628, 16.30630631, 16.33633634,\n",
       "       16.36636637, 16.3963964 , 16.42642643, 16.45645646, 16.48648649,\n",
       "       16.51651652, 16.54654655, 16.57657658, 16.60660661, 16.63663664,\n",
       "       16.66666667, 16.6966967 , 16.72672673, 16.75675676, 16.78678679,\n",
       "       16.81681682, 16.84684685, 16.87687688, 16.90690691, 16.93693694,\n",
       "       16.96696697, 16.996997  , 17.02702703, 17.05705706, 17.08708709,\n",
       "       17.11711712, 17.14714715, 17.17717718, 17.20720721, 17.23723724,\n",
       "       17.26726727, 17.2972973 , 17.32732733, 17.35735736, 17.38738739,\n",
       "       17.41741742, 17.44744745, 17.47747748, 17.50750751, 17.53753754,\n",
       "       17.56756757, 17.5975976 , 17.62762763, 17.65765766, 17.68768769,\n",
       "       17.71771772, 17.74774775, 17.77777778, 17.80780781, 17.83783784,\n",
       "       17.86786787, 17.8978979 , 17.92792793, 17.95795796, 17.98798799,\n",
       "       18.01801802, 18.04804805, 18.07807808, 18.10810811, 18.13813814,\n",
       "       18.16816817, 18.1981982 , 18.22822823, 18.25825826, 18.28828829,\n",
       "       18.31831832, 18.34834835, 18.37837838, 18.40840841, 18.43843844,\n",
       "       18.46846847, 18.4984985 , 18.52852853, 18.55855856, 18.58858859,\n",
       "       18.61861862, 18.64864865, 18.67867868, 18.70870871, 18.73873874,\n",
       "       18.76876877, 18.7987988 , 18.82882883, 18.85885886, 18.88888889,\n",
       "       18.91891892, 18.94894895, 18.97897898, 19.00900901, 19.03903904,\n",
       "       19.06906907, 19.0990991 , 19.12912913, 19.15915916, 19.18918919,\n",
       "       19.21921922, 19.24924925, 19.27927928, 19.30930931, 19.33933934,\n",
       "       19.36936937, 19.3993994 , 19.42942943, 19.45945946, 19.48948949,\n",
       "       19.51951952, 19.54954955, 19.57957958, 19.60960961, 19.63963964,\n",
       "       19.66966967, 19.6996997 , 19.72972973, 19.75975976, 19.78978979,\n",
       "       19.81981982, 19.84984985, 19.87987988, 19.90990991, 19.93993994,\n",
       "       19.96996997, 20.        , 20.03003003, 20.06006006, 20.09009009,\n",
       "       20.12012012, 20.15015015, 20.18018018, 20.21021021, 20.24024024,\n",
       "       20.27027027, 20.3003003 , 20.33033033, 20.36036036, 20.39039039,\n",
       "       20.42042042, 20.45045045, 20.48048048, 20.51051051, 20.54054054,\n",
       "       20.57057057, 20.6006006 , 20.63063063, 20.66066066, 20.69069069,\n",
       "       20.72072072, 20.75075075, 20.78078078, 20.81081081, 20.84084084,\n",
       "       20.87087087, 20.9009009 , 20.93093093, 20.96096096, 20.99099099,\n",
       "       21.02102102, 21.05105105, 21.08108108, 21.11111111, 21.14114114,\n",
       "       21.17117117, 21.2012012 , 21.23123123, 21.26126126, 21.29129129,\n",
       "       21.32132132, 21.35135135, 21.38138138, 21.41141141, 21.44144144,\n",
       "       21.47147147, 21.5015015 , 21.53153153, 21.56156156, 21.59159159,\n",
       "       21.62162162, 21.65165165, 21.68168168, 21.71171171, 21.74174174,\n",
       "       21.77177177, 21.8018018 , 21.83183183, 21.86186186, 21.89189189,\n",
       "       21.92192192, 21.95195195, 21.98198198, 22.01201201, 22.04204204,\n",
       "       22.07207207, 22.1021021 , 22.13213213, 22.16216216, 22.19219219,\n",
       "       22.22222222, 22.25225225, 22.28228228, 22.31231231, 22.34234234,\n",
       "       22.37237237, 22.4024024 , 22.43243243, 22.46246246, 22.49249249,\n",
       "       22.52252252, 22.55255255, 22.58258258, 22.61261261, 22.64264264,\n",
       "       22.67267267, 22.7027027 , 22.73273273, 22.76276276, 22.79279279,\n",
       "       22.82282282, 22.85285285, 22.88288288, 22.91291291, 22.94294294,\n",
       "       22.97297297, 23.003003  , 23.03303303, 23.06306306, 23.09309309,\n",
       "       23.12312312, 23.15315315, 23.18318318, 23.21321321, 23.24324324,\n",
       "       23.27327327, 23.3033033 , 23.33333333, 23.36336336, 23.39339339,\n",
       "       23.42342342, 23.45345345, 23.48348348, 23.51351351, 23.54354354,\n",
       "       23.57357357, 23.6036036 , 23.63363363, 23.66366366, 23.69369369,\n",
       "       23.72372372, 23.75375375, 23.78378378, 23.81381381, 23.84384384,\n",
       "       23.87387387, 23.9039039 , 23.93393393, 23.96396396, 23.99399399,\n",
       "       24.02402402, 24.05405405, 24.08408408, 24.11411411, 24.14414414,\n",
       "       24.17417417, 24.2042042 , 24.23423423, 24.26426426, 24.29429429,\n",
       "       24.32432432, 24.35435435, 24.38438438, 24.41441441, 24.44444444,\n",
       "       24.47447447, 24.5045045 , 24.53453453, 24.56456456, 24.59459459,\n",
       "       24.62462462, 24.65465465, 24.68468468, 24.71471471, 24.74474474,\n",
       "       24.77477477, 24.8048048 , 24.83483483, 24.86486486, 24.89489489,\n",
       "       24.92492492, 24.95495495, 24.98498498, 25.01501502, 25.04504505,\n",
       "       25.07507508, 25.10510511, 25.13513514, 25.16516517, 25.1951952 ,\n",
       "       25.22522523, 25.25525526, 25.28528529, 25.31531532, 25.34534535,\n",
       "       25.37537538, 25.40540541, 25.43543544, 25.46546547, 25.4954955 ,\n",
       "       25.52552553, 25.55555556, 25.58558559, 25.61561562, 25.64564565,\n",
       "       25.67567568, 25.70570571, 25.73573574, 25.76576577, 25.7957958 ,\n",
       "       25.82582583, 25.85585586, 25.88588589, 25.91591592, 25.94594595,\n",
       "       25.97597598, 26.00600601, 26.03603604, 26.06606607, 26.0960961 ,\n",
       "       26.12612613, 26.15615616, 26.18618619, 26.21621622, 26.24624625,\n",
       "       26.27627628, 26.30630631, 26.33633634, 26.36636637, 26.3963964 ,\n",
       "       26.42642643, 26.45645646, 26.48648649, 26.51651652, 26.54654655,\n",
       "       26.57657658, 26.60660661, 26.63663664, 26.66666667, 26.6966967 ,\n",
       "       26.72672673, 26.75675676, 26.78678679, 26.81681682, 26.84684685,\n",
       "       26.87687688, 26.90690691, 26.93693694, 26.96696697, 26.996997  ,\n",
       "       27.02702703, 27.05705706, 27.08708709, 27.11711712, 27.14714715,\n",
       "       27.17717718, 27.20720721, 27.23723724, 27.26726727, 27.2972973 ,\n",
       "       27.32732733, 27.35735736, 27.38738739, 27.41741742, 27.44744745,\n",
       "       27.47747748, 27.50750751, 27.53753754, 27.56756757, 27.5975976 ,\n",
       "       27.62762763, 27.65765766, 27.68768769, 27.71771772, 27.74774775,\n",
       "       27.77777778, 27.80780781, 27.83783784, 27.86786787, 27.8978979 ,\n",
       "       27.92792793, 27.95795796, 27.98798799, 28.01801802, 28.04804805,\n",
       "       28.07807808, 28.10810811, 28.13813814, 28.16816817, 28.1981982 ,\n",
       "       28.22822823, 28.25825826, 28.28828829, 28.31831832, 28.34834835,\n",
       "       28.37837838, 28.40840841, 28.43843844, 28.46846847, 28.4984985 ,\n",
       "       28.52852853, 28.55855856, 28.58858859, 28.61861862, 28.64864865,\n",
       "       28.67867868, 28.70870871, 28.73873874, 28.76876877, 28.7987988 ,\n",
       "       28.82882883, 28.85885886, 28.88888889, 28.91891892, 28.94894895,\n",
       "       28.97897898, 29.00900901, 29.03903904, 29.06906907, 29.0990991 ,\n",
       "       29.12912913, 29.15915916, 29.18918919, 29.21921922, 29.24924925,\n",
       "       29.27927928, 29.30930931, 29.33933934, 29.36936937, 29.3993994 ,\n",
       "       29.42942943, 29.45945946, 29.48948949, 29.51951952, 29.54954955,\n",
       "       29.57957958, 29.60960961, 29.63963964, 29.66966967, 29.6996997 ,\n",
       "       29.72972973, 29.75975976, 29.78978979, 29.81981982, 29.84984985,\n",
       "       29.87987988, 29.90990991, 29.93993994, 29.96996997, 30.        ])"
      ]
     },
     "execution_count": 3,
     "metadata": {},
     "output_type": "execute_result"
    }
   ],
   "source": [
    "u=np.linspace(start=0.0,stop=30,num=1000)\n",
    "u"
   ]
  },
  {
   "cell_type": "markdown",
   "metadata": {},
   "source": [
    "< [Table of Contents](#top) | [References](#references) >\n",
    "<a id=\"fdaSimulationSolutionPower\"></a>\n",
    "***\n",
    "### Power $(P)$\n",
    "***"
   ]
  },
  {
   "cell_type": "markdown",
   "metadata": {},
   "source": [
    "- encoded ``Eq. (1)`` in python ``(Eq. (2))`` [1]"
   ]
  },
  {
   "cell_type": "markdown",
   "metadata": {},
   "source": [
    "< [Table of Contents](#top) | [References](#references) >\n",
    "<a id=\"fdaSimulationSolutionPowernumpy\"></a>\n",
    "***\n",
    "###### ``numpy``\n",
    "***"
   ]
  },
  {
   "cell_type": "markdown",
   "metadata": {},
   "source": [
    "&#x1F6A7;"
   ]
  },
  {
   "cell_type": "markdown",
   "metadata": {},
   "source": [
    "< [Table of Contents](#top) | [References](#references) >\n",
    "<a id=\"fdaSimulationSolutionPowernumpyexp\"></a>\n",
    "***\n",
    "###### ``exp``\n",
    "***"
   ]
  },
  {
   "cell_type": "code",
   "execution_count": 4,
   "metadata": {},
   "outputs": [
    {
     "data": {
      "text/plain": [
       "2.718281828459045"
      ]
     },
     "execution_count": 4,
     "metadata": {},
     "output_type": "execute_result"
    }
   ],
   "source": [
    "np.exp(1)"
   ]
  },
  {
   "cell_type": "code",
   "execution_count": 5,
   "metadata": {},
   "outputs": [],
   "source": [
    "P_u=a*(1.0+m*np.exp(-u/t))/(1.0+n*np.exp(-u/t)) # e via np.exp "
   ]
  },
  {
   "cell_type": "markdown",
   "metadata": {},
   "source": [
    "< [Table of Contents](#top) | [References](#references) >\n",
    "<a id=\"fdaSimulationSolutionPu\"></a>\n",
    "***\n",
    "### Dataset $P(u)$\n",
    "***"
   ]
  },
  {
   "cell_type": "markdown",
   "metadata": {},
   "source": [
    "- using ``pandas`` to view simulated dataset via ``DataFrame`` [1]"
   ]
  },
  {
   "cell_type": "markdown",
   "metadata": {},
   "source": [
    "< [Table of Contents](#top) | [References](#references) >\n",
    "<a id=\"fdaSimulationSolutionWindPandas\"></a>\n",
    "***\n",
    "###### ``pandas``\n",
    "***"
   ]
  },
  {
   "cell_type": "code",
   "execution_count": 6,
   "metadata": {},
   "outputs": [],
   "source": [
    "import pandas as pd"
   ]
  },
  {
   "cell_type": "markdown",
   "metadata": {},
   "source": [
    "< [Table of Contents](#top) | [References](#references) >\n",
    "<a id=\"fdaSimulationSolutionWindPandasDataFrame\"></a>\n",
    "***\n",
    "###### ``DataFrame``\n",
    "***"
   ]
  },
  {
   "cell_type": "markdown",
   "metadata": {},
   "source": [
    "- creating a ``DataFrame`` using a dictionary (the first column is $u$ and the second column is $P$) [1]"
   ]
  },
  {
   "cell_type": "code",
   "execution_count": 7,
   "metadata": {},
   "outputs": [],
   "source": [
    "df=pd.DataFrame({\"Wind\":u,\"Power\":P_u})"
   ]
  },
  {
   "cell_type": "code",
   "execution_count": 8,
   "metadata": {},
   "outputs": [
    {
     "data": {
      "text/html": [
       "<div>\n",
       "<style scoped>\n",
       "    .dataframe tbody tr th:only-of-type {\n",
       "        vertical-align: middle;\n",
       "    }\n",
       "\n",
       "    .dataframe tbody tr th {\n",
       "        vertical-align: top;\n",
       "    }\n",
       "\n",
       "    .dataframe thead th {\n",
       "        text-align: right;\n",
       "    }\n",
       "</style>\n",
       "<table border=\"1\" class=\"dataframe\">\n",
       "  <thead>\n",
       "    <tr style=\"text-align: right;\">\n",
       "      <th></th>\n",
       "      <th>Wind</th>\n",
       "      <th>Power</th>\n",
       "    </tr>\n",
       "  </thead>\n",
       "  <tbody>\n",
       "    <tr>\n",
       "      <th>0</th>\n",
       "      <td>0.00000</td>\n",
       "      <td>11.813466</td>\n",
       "    </tr>\n",
       "    <tr>\n",
       "      <th>1</th>\n",
       "      <td>0.03003</td>\n",
       "      <td>11.882492</td>\n",
       "    </tr>\n",
       "    <tr>\n",
       "      <th>2</th>\n",
       "      <td>0.06006</td>\n",
       "      <td>11.953000</td>\n",
       "    </tr>\n",
       "    <tr>\n",
       "      <th>3</th>\n",
       "      <td>0.09009</td>\n",
       "      <td>12.025021</td>\n",
       "    </tr>\n",
       "    <tr>\n",
       "      <th>4</th>\n",
       "      <td>0.12012</td>\n",
       "      <td>12.098589</td>\n",
       "    </tr>\n",
       "    <tr>\n",
       "      <th>...</th>\n",
       "      <td>...</td>\n",
       "      <td>...</td>\n",
       "    </tr>\n",
       "    <tr>\n",
       "      <th>995</th>\n",
       "      <td>29.87988</td>\n",
       "      <td>2011.099231</td>\n",
       "    </tr>\n",
       "    <tr>\n",
       "      <th>996</th>\n",
       "      <td>29.90991</td>\n",
       "      <td>2011.099247</td>\n",
       "    </tr>\n",
       "    <tr>\n",
       "      <th>997</th>\n",
       "      <td>29.93994</td>\n",
       "      <td>2011.099263</td>\n",
       "    </tr>\n",
       "    <tr>\n",
       "      <th>998</th>\n",
       "      <td>29.96997</td>\n",
       "      <td>2011.099278</td>\n",
       "    </tr>\n",
       "    <tr>\n",
       "      <th>999</th>\n",
       "      <td>30.00000</td>\n",
       "      <td>2011.099293</td>\n",
       "    </tr>\n",
       "  </tbody>\n",
       "</table>\n",
       "<p>1000 rows × 2 columns</p>\n",
       "</div>"
      ],
      "text/plain": [
       "         Wind        Power\n",
       "0     0.00000    11.813466\n",
       "1     0.03003    11.882492\n",
       "2     0.06006    11.953000\n",
       "3     0.09009    12.025021\n",
       "4     0.12012    12.098589\n",
       "..        ...          ...\n",
       "995  29.87988  2011.099231\n",
       "996  29.90991  2011.099247\n",
       "997  29.93994  2011.099263\n",
       "998  29.96997  2011.099278\n",
       "999  30.00000  2011.099293\n",
       "\n",
       "[1000 rows x 2 columns]"
      ]
     },
     "execution_count": 8,
     "metadata": {},
     "output_type": "execute_result"
    }
   ],
   "source": [
    "df"
   ]
  },
  {
   "cell_type": "markdown",
   "metadata": {},
   "source": [
    "***\n",
    "## END"
   ]
  },
  {
   "cell_type": "markdown",
   "metadata": {},
   "source": [
    "< [Table of Contents](#top) | [Abstract](#abstract) | [Introduction](#introduction) | [Solution](#solution) | [References](#references) >\n",
    "<a id=\"conclusion\"></a>\n",
    "***\n",
    "## Conclusion\n",
    "***"
   ]
  },
  {
   "cell_type": "markdown",
   "metadata": {},
   "source": [
    "- creating a visually representation of ``Eq. (1)`` [1]"
   ]
  },
  {
   "cell_type": "markdown",
   "metadata": {},
   "source": [
    "< [Table of Contents](#top) | [References](#references) >\n",
    "<a id=\"fdaSimulationConclusionPlot\"></a>\n",
    "***\n",
    "### Plot\n",
    "***"
   ]
  },
  {
   "cell_type": "markdown",
   "metadata": {},
   "source": [
    "- the amount of $P$ generated from the wind turbine on a certain $u$ represented visually via ``seaborn`` [1]"
   ]
  },
  {
   "cell_type": "markdown",
   "metadata": {},
   "source": [
    "< [Table of Contents](#top) | [References](#references) >\n",
    "<a id=\"fdaSimulationConclusionPlotseaborn\"></a>\n",
    "***\n",
    "###### ``seaborn``\n",
    "***"
   ]
  },
  {
   "cell_type": "code",
   "execution_count": 9,
   "metadata": {},
   "outputs": [],
   "source": [
    "import seaborn as sns"
   ]
  },
  {
   "cell_type": "markdown",
   "metadata": {},
   "source": [
    "< [Table of Contents](#top) | [References](#references) >\n",
    "<a id=\"fdaSimulationConclusionPlotseabornscatterplot\"></a>\n",
    "***\n",
    "###### ``scatterplot``\n",
    "***"
   ]
  },
  {
   "cell_type": "code",
   "execution_count": 10,
   "metadata": {},
   "outputs": [
    {
     "data": {
      "text/html": [
       "<style>.container { width:100% !important; }</style>"
      ],
      "text/plain": [
       "<IPython.core.display.HTML object>"
      ]
     },
     "metadata": {},
     "output_type": "display_data"
    }
   ],
   "source": [
    "from sys import path; path.insert(1,\"../src\")\n",
    "from fubar import fDarkReader\n",
    "fDarkReader()"
   ]
  },
  {
   "cell_type": "code",
   "execution_count": 11,
   "metadata": {},
   "outputs": [
    {
     "name": "stdout",
     "output_type": "stream",
     "text": [
      "# repository ./SeanOhAileasa\r\n",
      "def fDarkReader():\r\n",
      "    \"\"\"Unable to determine plot ticks when using https://darkreader.org.\r\n",
      "\r\n",
      "Input:\r\n",
      "Process: (matplotlib.style.core.use)\r\n",
      "Output:\r\n",
      "\"\"\"\r\n",
      "    from matplotlib.style.core import use\r\n",
      "    use({\"default\"})\r\n",
      "# --- END ---\r\n"
     ]
    }
   ],
   "source": [
    "%%script bash\n",
    "grep -1 \"def fDarkReader\" ../src/fubar.py -A 9"
   ]
  },
  {
   "cell_type": "code",
   "execution_count": 12,
   "metadata": {},
   "outputs": [],
   "source": [
    "from matplotlib.style.core import use\n",
    "use(\"ggplot\")"
   ]
  },
  {
   "cell_type": "markdown",
   "metadata": {},
   "source": [
    "- appears if $u$ is low ($5$ metres per second) will get very little power out of it [1]"
   ]
  },
  {
   "cell_type": "markdown",
   "metadata": {},
   "source": [
    "- getting $u$ up to about $12$ to $15$ metres per second will got most bang for your buck [1]"
   ]
  },
  {
   "cell_type": "markdown",
   "metadata": {},
   "source": [
    "- any $u$ above $20$ metres per second is not really generating any extra power which is interesting given the faster and faster the wind turbine turns would expect a better $P$ (twice the $u$ might expect twice the $P$) [1]"
   ]
  },
  {
   "cell_type": "markdown",
   "metadata": {},
   "source": [
    "- plot shows there is a sweet spot in the middle (around $15$ metres per second) - anything faster would probably increase the stress on the wind turbine (components going a bit too fast and not getting much bang for your buck) [1]"
   ]
  },
  {
   "cell_type": "code",
   "execution_count": 13,
   "metadata": {},
   "outputs": [
    {
     "data": {
      "image/png": "[encoded data removed]",
      "text/plain": [
       "<Figure size 640x480 with 1 Axes>"
      ]
     },
     "metadata": {},
     "output_type": "display_data"
    }
   ],
   "source": [
    "sns.scatterplot(x=\"Wind\",y=\"Power\",data=df);"
   ]
  },
  {
   "cell_type": "markdown",
   "metadata": {},
   "source": [
    "- such relationships are encounted everyday - putting a car in second gear and driving up the motorway accelerating after a certain point the revs display will be in the red zone (danger of damaging the car) [1]"
   ]
  },
  {
   "cell_type": "markdown",
   "metadata": {},
   "source": [
    "***\n",
    "## END"
   ]
  },
  {
   "cell_type": "markdown",
   "metadata": {},
   "source": [
    "< [Table of Contents](#top) | [Abstract](#abstract) | [Introduction](#introduction) | [Solution](#solution) | [Conclusion](#conclusion) >\n",
    "<a id=\"references\"></a>\n",
    "***\n",
    "## References\n",
    "***\n",
    "\n",
    "&nbsp;&nbsp;&nbsp;&nbsp;&nbsp;&nbsp;&nbsp;&nbsp;&nbsp;[1] I. McLoughlin, \"Plotting an equation,\" GMIT, October 2020."
   ]
  },
  {
   "cell_type": "markdown",
   "metadata": {},
   "source": [
    "***\n",
    "## END"
   ]
  },
  {
   "cell_type": "markdown",
   "metadata": {},
   "source": [
    "< [Table of Contents](#top) | [Abstract](#abstract) | [Introduction](#introduction) | [Solution](#solution) | [Conclusion](#conclusion) | [References](#references) >\n",
    "<a id=\"appendix\"></a>\n",
    "***\n",
    "## Appendix\n",
    "***"
   ]
  },
  {
   "cell_type": "markdown",
   "metadata": {},
   "source": [
    "&#x1F6A7;"
   ]
  },
  {
   "cell_type": "markdown",
   "metadata": {},
   "source": [
    "***\n",
    "## END"
   ]
  },
  {
   "cell_type": "markdown",
   "metadata": {},
   "source": [
    "# END JUPYTER NOTEBOOK"
   ]
  }
 ],
 "metadata": {
  "kernelspec": {
   "display_name": "Python 3",
   "language": "python",
   "name": "python3"
  },
  "language_info": {
   "codemirror_mode": {
    "name": "ipython",
    "version": 3
   },
   "file_extension": ".py",
   "mimetype": "text/x-python",
   "name": "python",
   "nbconvert_exporter": "python",
   "pygments_lexer": "ipython3",
   "version": "3.8.8"
  }
 },
 "nbformat": 4,
 "nbformat_minor": 4
}
