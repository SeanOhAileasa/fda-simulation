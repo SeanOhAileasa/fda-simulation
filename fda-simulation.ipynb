{
 "cells": [
  {
   "cell_type": "code",
   "execution_count": null,
   "metadata": {},
   "outputs": [
    {
     "data": {
      "text/html": [
       "<script>Jupyter.notebook.kernel.restart()</script>"
      ]
     },
     "metadata": {},
     "output_type": "display_data"
    }
   ],
   "source": [
    "from IPython.core.display import display_html\n",
    "display_html(\"<script>Jupyter.notebook.kernel.restart()</script>\",raw=True)"
   ]
  },
  {
   "cell_type": "code",
   "execution_count": 1,
   "metadata": {},
   "outputs": [
    {
     "data": {
      "text/html": [
       "<style>.container { width:100% !important; }</style>"
      ],
      "text/plain": [
       "<IPython.core.display.HTML object>"
      ]
     },
     "metadata": {},
     "output_type": "display_data"
    },
    {
     "data": {
      "text/html": [
       "<style>.container { width:100% !important; }</style>"
      ],
      "text/plain": [
       "<IPython.core.display.HTML object>"
      ]
     },
     "metadata": {},
     "output_type": "display_data"
    }
   ],
   "source": [
    "from sys import path; path.insert(1,\"../src\");\n",
    "import fubar; from importlib import reload; reload(fubar);"
   ]
  },
  {
   "cell_type": "markdown",
   "metadata": {},
   "source": [
    "***\n",
    "< [GMIT Data Analytics](https://web.archive.org/web/20201029063153/https://www.gmit.ie/computer-science-and-applied-physics/higher-diploma-science-computing-data-analytics-ict) | [Home](https://github.com/SeanOhAileasa) | [README](https://github.com/SeanOhAileasa/fda-simulation/blob/main/README.md) >\n",
    "\n",
    "[![GMIT](https://github.com/SeanOhAileasa/SeanOhAileasa/blob/master/rc/gmit.png?raw=true)](https://web.archive.org/web/20201029063153/https://www.gmit.ie/computer-science-and-applied-physics/higher-diploma-science-computing-data-analytics-ict)\n",
    "\n",
    "## Fundamentals of Data Analysis - Course Material 2020\n",
    "### Topic: [Simulation](https://nbviewer.jupyter.org/github/SeanOhAileasa/fda-simulation/blob/main/fda-simulation.ipynb)\n",
    "***"
   ]
  },
  {
   "cell_type": "markdown",
   "metadata": {},
   "source": [
    "Course material for the ``Fundamentals of Data Analysis`` module (5 Credits) of the ``Higher Diploma in Science in Computing (Data Analytics) (H.Dip)`` programme (75 Credits) at **Galway-Mayo Institute of Technology (GMIT)**."
   ]
  },
  {
   "cell_type": "markdown",
   "metadata": {},
   "source": [
    "- referenced external link - [Machine Learning & Statistics](https://nbviewer.jupyter.org/github/SeanOhAileasa/mls-machine-learning-statistics/blob/main/mls-machine-learning-statistics.ipynb)"
   ]
  },
  {
   "cell_type": "code",
   "execution_count": 2,
   "metadata": {},
   "outputs": [],
   "source": [
    "from sys import path; path.insert(1,\"../src\")\n",
    "from fubar import fFile"
   ]
  },
  {
   "cell_type": "code",
   "execution_count": 3,
   "metadata": {},
   "outputs": [
    {
     "name": "stdout",
     "output_type": "stream",
     "text": [
      "# repository ./SeanOhAileasa\r\n",
      "def fFile(nParPath):\r\n",
      "    \"\"\"Start a file with its associated application.\r\n",
      "\r\n",
      "Input: nParPath\r\n",
      "Process: (os.path.realpath; os.startfile)\r\n",
      "Output: file opened with associated application\r\n",
      "\"\"\"\r\n",
      "    from os import path,startfile\r\n",
      "    return startfile(path.realpath(nParPath))\r\n",
      "# --- END ---\r\n"
     ]
    }
   ],
   "source": [
    "%%script bash\n",
    "grep -1 \"def fFile\" ../src/fubar.py -A 9"
   ]
  },
  {
   "cell_type": "markdown",
   "metadata": {},
   "source": [
    "<a id=\"top\"></a>\n",
    "***\n",
    "## Table of Contents\n",
    "***\n",
    "\n",
    "## [Abstract](#abstract)\n",
    "\n",
    "- &#x1F6A7;\n",
    "\n",
    "## [Introduction](#introduction)\n",
    "\n",
    "- &#x1F6A7;\n",
    "\n",
    "## [Solution](#solution)\n",
    "\n",
    "- &#x1F6A7;\n",
    "\n",
    "## [Conclusion](#conclusion)\n",
    "\n",
    "- &#x1F6A7;"
   ]
  },
  {
   "cell_type": "markdown",
   "metadata": {},
   "source": [
    "***\n",
    "## END"
   ]
  },
  {
   "cell_type": "code",
   "execution_count": null,
   "metadata": {},
   "outputs": [],
   "source": [
    "fFile(\"./hide/024-Plotting an equation - 18-10-2020.mp4\")"
   ]
  },
  {
   "cell_type": "markdown",
   "metadata": {},
   "source": [
    "< [Table of Contents](#top) | [Introduction](#introduction) | [Solution](#solution) | [Conclusion](#conclusion) | [References](#references) >\n",
    "<a id=\"abstract\"></a>\n",
    "***\n",
    "## Abstract\n",
    "***"
   ]
  },
  {
   "cell_type": "markdown",
   "metadata": {},
   "source": [
    "&#x1F6A7;"
   ]
  },
  {
   "cell_type": "markdown",
   "metadata": {},
   "source": [
    "***\n",
    "## END"
   ]
  },
  {
   "cell_type": "markdown",
   "metadata": {},
   "source": [
    "< [Table of Contents](#top) | [Abstract](#abstract) | [Solution](#solution) | [Conclusion](#conclusion) | [References](#references) >\n",
    "<a id=\"introduction\"></a>\n",
    "***\n",
    "## Introduction\n",
    "***"
   ]
  },
  {
   "cell_type": "markdown",
   "metadata": {},
   "source": [
    "&#x1F6A7;"
   ]
  },
  {
   "cell_type": "markdown",
   "metadata": {},
   "source": [
    "***\n",
    "## END"
   ]
  },
  {
   "cell_type": "markdown",
   "metadata": {},
   "source": [
    "< [Table of Contents](#top) | [Abstract](#abstract) | [Introduction](#introduction) | [Conclusion](#conclusion) | [References](#references) >\n",
    "<a id=\"solution\"></a>\n",
    "***\n",
    "## Solution\n",
    "***"
   ]
  },
  {
   "cell_type": "markdown",
   "metadata": {},
   "source": [
    "&#x1F6A7;"
   ]
  },
  {
   "cell_type": "markdown",
   "metadata": {},
   "source": [
    "***\n",
    "## END"
   ]
  },
  {
   "cell_type": "markdown",
   "metadata": {},
   "source": [
    "< [Table of Contents](#top) | [Abstract](#abstract) | [Introduction](#introduction) | [Solution](#solution) | [References](#references) >\n",
    "<a id=\"conclusion\"></a>\n",
    "***\n",
    "## Conclusion\n",
    "***"
   ]
  },
  {
   "cell_type": "markdown",
   "metadata": {},
   "source": [
    "&#x1F6A7;"
   ]
  },
  {
   "cell_type": "markdown",
   "metadata": {},
   "source": [
    "***\n",
    "## END"
   ]
  },
  {
   "cell_type": "markdown",
   "metadata": {},
   "source": [
    "< [Table of Contents](#top) | [References](#references) >\n",
    "<a id=\"xxx\"></a>\n",
    "***\n",
    "###### Simulating\n",
    "***"
   ]
  },
  {
   "cell_type": "markdown",
   "metadata": {},
   "source": [
    "- [Reformulation of parameters of the logistic function appliedto power curves of wind turbines](https://www.sciencedirect.com/science/article/pii/S0378779616300992)\n",
    "\n",
    "- [Daniel Villanueva and Andrés E. Feijóo; Electric Power Systems Research; Vol. 137; Pages 51-58; 2016](https://www.sciencedirect.com/science/article/pii/S0378779616300992)*\n",
    "\n",
    "> The current procedure for obtaining the parameters of the logistic function, used as a model for the power curve of wind turbines, provides meaningless values. These values are different for each wind turbine and obtaining them requires an optimization process. This paper proposes a procedure to obtain the parameters of the 4-parameter logistic function based on the features of the power curve, providing a model that is a function of the power curve parameters supplied by the manufacturer. Furthermore, that model can be used to derive another 4-parameter model and a 3-parameter model is proposed for certain conditions. The three models consist of a continuous function which simplifies the implementation of the curve in a computer program compared to piecewise models. In addition, the probability density function of the output power of a wind turbine is derived by using each model."
   ]
  },
  {
   "cell_type": "markdown",
   "metadata": {},
   "source": [
    "$$ P(u) = a \\frac{1 + me^{-u/t}}{1+ ne^{-u/t}} $$"
   ]
  },
  {
   "cell_type": "markdown",
   "metadata": {},
   "source": [
    "***"
   ]
  },
  {
   "cell_type": "markdown",
   "metadata": {},
   "source": [
    "- look at a situation that you might come across in the future where somebody tells you that theres a relationship between two different variables but they do not give you a dataset where you can see that relationship - characterising the relationship in terms of some sort of equation [\n",
    "[...] I. McLoughlin, \"Plotting an equation,\" GMIT, October 2020.\n",
    "]"
   ]
  },
  {
   "cell_type": "markdown",
   "metadata": {},
   "source": [
    "- relationship in an equation - like to have some sort of visual representation - to have a look at it and see if it will make sense because often the equation if in any way complex can be difficult to picture it [\n",
    "[...] I. McLoughlin, \"Plotting an equation,\" GMIT, October 2020.\n",
    "] "
   ]
  },
  {
   "cell_type": "markdown",
   "metadata": {},
   "source": [
    "- paper - figuring out the relationship between wind turbines in terms of the power that they output and wind speed - really just two variables - the wind speed - and the power output of the turbine - relationship characterised as [\n",
    "[...] I. McLoughlin, \"Plotting an equation,\" GMIT, October 2020.\n",
    "]\n",
    "\n",
    "$$P(u) = a \\frac{1 + me^{-u/t}}{1+ ne^{-u/t}}$$"
   ]
  },
  {
   "cell_type": "markdown",
   "metadata": {},
   "source": [
    "- power $P$ - input (wind speed) $u$ - like an ``x`` just using $u$ instead of ``x`` in the paper - the idea is to calculate what $P$ is when $u$ is a given value [\n",
    "[...] I. McLoughlin, \"Plotting an equation,\" GMIT, October 2020.\n",
    "]\n",
    "\n",
    "$$P(u)$$"
   ]
  },
  {
   "cell_type": "markdown",
   "metadata": {},
   "source": [
    "- one of the relationships suggested in the paper is to calculate $P$ from $u$ - calculate the amount of power that a wind turbine is going to generate based on wind speed - where $a$ is some parameter - some fixed number - multiplied by the following fraction [\n",
    "[...] I. McLoughlin, \"Plotting an equation,\" GMIT, October 2020.\n",
    "]\n",
    "\n",
    "$$a\\frac{1 + me^{-u/t}}{1+ ne^{-u/t}}$$"
   ]
  },
  {
   "cell_type": "markdown",
   "metadata": {},
   "source": [
    "- tersely written paper - one of the equations in paper gave the values - ``a`` - ``m`` - ``n`` - ``t`` - so gonna just plot [\n",
    "[...] I. McLoughlin, \"Plotting an equation,\" GMIT, October 2020.\n",
    "]"
   ]
  },
  {
   "cell_type": "markdown",
   "metadata": {},
   "source": [
    "- the four constants that were in this equation - ``a`` - ``m`` - ``n`` - ``t`` - set the values -  2011.1 - 2.6650 - 622.922 - 1.4090 - respectively [\n",
    "[...] I. McLoughlin, \"Plotting an equation,\" GMIT, October 2020.\n",
    "]"
   ]
  },
  {
   "cell_type": "raw",
   "metadata": {},
   "source": [
    "import numpy\n",
    "print(numpy.__doc__)"
   ]
  },
  {
   "cell_type": "code",
   "execution_count": null,
   "metadata": {},
   "outputs": [],
   "source": [
    "# b_T_hird_P_arty-imports\n",
    "import numpy as np"
   ]
  },
  {
   "cell_type": "code",
   "execution_count": null,
   "metadata": {},
   "outputs": [],
   "source": [
    "a,m,n,t=2011.1,2.6650,622.922,1.4090"
   ]
  },
  {
   "cell_type": "markdown",
   "metadata": {},
   "source": [
    "- reasonable ranges for wind speed - $u$ - reading the paper - reckoned that obviously zero was the lowest wind speed you can have - a minus wind speed would mean maybe if there was directionality - that would mean the wind was going the other direction - but theres no direction here - so zero was the lowest wind speed - reasoned 30 metres per second was quite a fast wind speed - probably shut down the wind turbine at that speed to stop it from breaking apart - then 1000 - function - linspace - creates values evenly spaced out between the lower number zero and the higher number thirty - specifying one-thousand points in between those - just going to be a list of numbers - starting at zero going up to thirty in increments of about 30 divided by 1000 - so theres going to be 1000 numbers in the list - and the lowest gonna be zero - the highest going to be thirty - and all the other ones will be evenly spaced out between those - so thats just numpy provides that functionality [\n",
    "[...] I. McLoughlin, \"Plotting an equation,\" GMIT, October 2020.\n",
    "]"
   ]
  },
  {
   "cell_type": "raw",
   "metadata": {},
   "source": [
    "from numpy.core.function_base import linspace\n",
    "print(linspace.__doc__)"
   ]
  },
  {
   "cell_type": "code",
   "execution_count": null,
   "metadata": {
    "scrolled": true
   },
   "outputs": [],
   "source": [
    "# package numpy alias np - subpackage core - module function_base - function linspace - call\n",
    "u=np.linspace(0.0,30.0,1000)\n",
    "# function fGetModuleType - call\n",
    "fGetModuleType(np.linspace)\n",
    "np.linspace.__wrapped__"
   ]
  },
  {
   "cell_type": "markdown",
   "metadata": {},
   "source": [
    "- array of numbers - ``u`` [\n",
    "[...] I. McLoughlin, \"Plotting an equation,\" GMIT, October 2020.\n",
    "]"
   ]
  },
  {
   "cell_type": "code",
   "execution_count": null,
   "metadata": {},
   "outputs": [],
   "source": [
    "# package numpy alias np - subpackage core - module function_base - function linspace - call\n",
    "u=np.linspace(0.0,30.0,1000)"
   ]
  },
  {
   "cell_type": "markdown",
   "metadata": {},
   "source": [
    "- array of numbers - ``P_u`` [\n",
    "[...] I. McLoughlin, \"Plotting an equation,\" GMIT, October 2020.\n",
    "]"
   ]
  },
  {
   "cell_type": "code",
   "execution_count": null,
   "metadata": {},
   "outputs": [],
   "source": [
    "P_u=a*(1.0+m*np.exp(-u/t))/(1.0+n*np.exp(-u/t))"
   ]
  },
  {
   "cell_type": "markdown",
   "metadata": {},
   "source": [
    "- creating a DataFrame - using a dictionary here to create a DataFrame - using pandas where the first column is called wind - ``u`` values - zero value - up to the - 30 value - and theres 998 other values evenly spaced out between those - power ``P_u`` - equation [\n",
    "[...] I. McLoughlin, \"Plotting an equation,\" GMIT, October 2020.\n",
    "]\n",
    "\n",
    "$$P(u) = a \\frac{1 + me^{-u/t}}{1+ ne^{-u/t}}$$"
   ]
  },
  {
   "cell_type": "raw",
   "metadata": {},
   "source": [
    "from pandas.core.frame import DataFrame\n",
    "print(DataFrame.__doc__)"
   ]
  },
  {
   "cell_type": "code",
   "execution_count": null,
   "metadata": {},
   "outputs": [],
   "source": [
    "# package pandas alias pd - subpackage core - module frame - object DataFrame - instantiate\n",
    "df=pd.DataFrame({\"wind\": u, \"power\":P_u})\n",
    "#function fGetModuleType - call\n",
    "fGetModuleType(pd.DataFrame)\n",
    "df"
   ]
  },
  {
   "cell_type": "markdown",
   "metadata": {},
   "source": [
    "- took an equation from a paper - wanted a nice visual representation - its showing that using the equation for calculating the amount of power that we expect the wind turbine to generate based on a certain wind speed - it looks like if your wind speed is low - five metres per second - get very little power out [\n",
    "[...] I. McLoughlin, \"Plotting an equation,\" GMIT, October 2020.\n",
    "]"
   ]
  },
  {
   "cell_type": "markdown",
   "metadata": {},
   "source": [
    "- get up to about 12/13/14/15 metres per second - you have really got most of the bang for your buck - anything above 20 metres per second wind speed not really generating any extra power [\n",
    "[...] I. McLoughlin, \"Plotting an equation,\" GMIT, October 2020.\n",
    "]"
   ]
  },
  {
   "cell_type": "markdown",
   "metadata": {},
   "source": [
    "- really interesting - some people would think the faster and faster the wind turbine operates the better because you are obviously going to be generating twice the wind speed - twice the power output [\n",
    "[...] I. McLoughlin, \"Plotting an equation,\" GMIT, October 2020.\n",
    "]"
   ]
  },
  {
   "cell_type": "markdown",
   "metadata": {},
   "source": [
    "- according to scatterplot - its telling you that theres kind of a sweet spot in the middle for your wind turbine - that says when you are around 15 metres per second you are doing as well as you can with this wind turbine - anything faster than that you are actually probably increasing the stress on the wind turbine - all the components in it are going a bit too fast - and you are not getting much bang for your buck [\n",
    "[...] I. McLoughlin, \"Plotting an equation,\" GMIT, October 2020.\n",
    "]"
   ]
  },
  {
   "cell_type": "raw",
   "metadata": {},
   "source": [
    "from seaborn.relational import scatterplot\n",
    "print(scatterplot.__doc__)"
   ]
  },
  {
   "cell_type": "code",
   "execution_count": null,
   "metadata": {},
   "outputs": [],
   "source": [
    "# package seaborn alias sns - module relational - function scatterplot - call\n",
    "sns.scatterplot(data=df,x=\"wind\",y=\"power\");\n",
    "# function fGetModuleType - call\n",
    "fGetModuleType(sns.scatterplot)"
   ]
  },
  {
   "cell_type": "markdown",
   "metadata": {},
   "source": [
    "< [Table of Contents](#top) | [Abstract](#abstract) | [Introduction](#introduction) | [Solution](#solution) | [Conclusion](#conclusion) >\n",
    "<a id=\"references\"></a>\n",
    "***\n",
    "## References\n",
    "***\n",
    "\n",
    "&#x1F6A7;"
   ]
  },
  {
   "cell_type": "markdown",
   "metadata": {},
   "source": [
    "***\n",
    "## END"
   ]
  },
  {
   "cell_type": "markdown",
   "metadata": {},
   "source": [
    "< [Table of Contents](#top) | [Abstract](#abstract) | [Introduction](#introduction) | [Solution](#solution) | [Conclusion](#conclusion) | [References](#references) >\n",
    "<a id=\"appendix\"></a>\n",
    "***\n",
    "## Appendix\n",
    "***"
   ]
  },
  {
   "cell_type": "markdown",
   "metadata": {},
   "source": [
    "&#x1F6A7;"
   ]
  },
  {
   "cell_type": "markdown",
   "metadata": {},
   "source": [
    "***\n",
    "## END"
   ]
  },
  {
   "cell_type": "markdown",
   "metadata": {},
   "source": [
    "# END JUPYTER NOTEBOOK"
   ]
  }
 ],
 "metadata": {
  "kernelspec": {
   "display_name": "Python 3",
   "language": "python",
   "name": "python3"
  },
  "language_info": {
   "codemirror_mode": {
    "name": "ipython",
    "version": 3
   },
   "file_extension": ".py",
   "mimetype": "text/x-python",
   "name": "python",
   "nbconvert_exporter": "python",
   "pygments_lexer": "ipython3",
   "version": "3.8.8"
  }
 },
 "nbformat": 4,
 "nbformat_minor": 4
}
